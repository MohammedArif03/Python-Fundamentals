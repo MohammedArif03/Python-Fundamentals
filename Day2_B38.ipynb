{
 "cells": [
  {
   "cell_type": "code",
   "execution_count": null,
   "metadata": {},
   "outputs": [],
   "source": [
    "# Declaration of variables\n",
    "\n",
    "# Rules for declaring variables\n",
    "\n",
    "'''\n",
    "1. Variable names does not contain any spaces. \n",
    "2. Variable names should not begin with a number. But numbers are allowed in the middle or end of the variable names.\n",
    "    eg: 1name is not allowed whereas as nam1e or name1 is allowed.\n",
    "\n",
    "3. Variable names should not be a reserved keywords like 'List', 'Str' etc...\n",
    "4. Variable names should not contain any special characters like '!@#$%^&*' etc..\n",
    "\n",
    "'''"
   ]
  },
  {
   "cell_type": "code",
   "execution_count": 11,
   "metadata": {},
   "outputs": [
    {
     "name": "stdout",
     "output_type": "stream",
     "text": [
      "10\n",
      "20\n",
      "<class 'int'>\n",
      "<class 'int'>\n"
     ]
    }
   ],
   "source": [
    "# Variable declaration and retrieving the data type of a variable\n",
    "a = 10\n",
    "b = 20\n",
    "print(a)\n",
    "print(b)\n",
    "print(type(a))\n",
    "print(type(b))\n"
   ]
  },
  {
   "cell_type": "code",
   "execution_count": 18,
   "metadata": {},
   "outputs": [
    {
     "name": "stdout",
     "output_type": "stream",
     "text": [
      "60\n",
      "-10\n",
      "875\n",
      "0.7142857142857143\n",
      "0\n",
      "8470329472543003390683225006796419620513916015625\n",
      "25\n",
      "<class 'int'>\n",
      "<class 'int'>\n",
      "<class 'int'>\n",
      "<class 'float'>\n",
      "<class 'int'>\n",
      "<class 'int'>\n",
      "<class 'int'>\n"
     ]
    }
   ],
   "source": [
    "a = 25 \n",
    "b = 35\n",
    "addition = a + b\n",
    "subtraction = a - b\n",
    "multiplication = a * b\n",
    "division = a / b\n",
    "floor_division = a // b\n",
    "exponentation = a ** b \n",
    "percentile = a % b\n",
    "print(addition)\n",
    "print(subtraction)\n",
    "print(multiplication)\n",
    "print(division)\n",
    "print(floor_division)\n",
    "print(exponentation)\n",
    "print(percentile)\n",
    "print(type(addition))\n",
    "print(type(subtraction))\n",
    "print(type(multiplication))\n",
    "print(type(division))\n",
    "print(type(floor_division))\n",
    "print(type(exponentation))\n",
    "print(type(percentile))"
   ]
  },
  {
   "cell_type": "code",
   "execution_count": 13,
   "metadata": {},
   "outputs": [
    {
     "name": "stdout",
     "output_type": "stream",
     "text": [
      "Mohammed\n",
      "Arif\n",
      "Mohammed Arif\n",
      "<class 'str'>\n",
      "<class 'str'>\n"
     ]
    }
   ],
   "source": [
    "first_name = 'Mohammed'\n",
    "last_name = 'Arif'\n",
    "print(first_name)\n",
    "print(last_name)\n",
    "print(first_name + \" \" + last_name)\n",
    "print(type(first_name))\n",
    "print(type(last_name))"
   ]
  },
  {
   "cell_type": "code",
   "execution_count": 19,
   "metadata": {},
   "outputs": [
    {
     "name": "stdout",
     "output_type": "stream",
     "text": [
      "Mohammed Arif\n",
      "Mohammed Arif\n",
      "Mohammed Arif\n"
     ]
    }
   ],
   "source": [
    "# String declaration in multiple types (Single, double and triple quotes)\n",
    "\n",
    "my_name = 'Mohammed Arif'\n",
    "my_name1 = \"Mohammed Arif\"\n",
    "my_name2 = '''Mohammed Arif'''\n",
    "\n",
    "print(my_name)\n",
    "print(my_name1)\n",
    "print(my_name2)"
   ]
  },
  {
   "cell_type": "code",
   "execution_count": null,
   "metadata": {},
   "outputs": [],
   "source": []
  }
 ],
 "metadata": {
  "kernelspec": {
   "display_name": "Python 3",
   "language": "python",
   "name": "python3"
  },
  "language_info": {
   "codemirror_mode": {
    "name": "ipython",
    "version": 3
   },
   "file_extension": ".py",
   "mimetype": "text/x-python",
   "name": "python",
   "nbconvert_exporter": "python",
   "pygments_lexer": "ipython3",
   "version": "3.8.3"
  }
 },
 "nbformat": 4,
 "nbformat_minor": 4
}
