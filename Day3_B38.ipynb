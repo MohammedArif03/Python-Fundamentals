{
 "cells": [
  {
   "cell_type": "code",
   "execution_count": 2,
   "metadata": {},
   "outputs": [
    {
     "name": "stdout",
     "output_type": "stream",
     "text": [
      "The full name is Mohammed Arif\n"
     ]
    }
   ],
   "source": [
    "# f strings literals\n",
    "\n",
    "first_name = \"Mohammed\"\n",
    "last_name = \"Arif\"\n",
    "\n",
    "print(f'The full name is {first_name} {last_name}')"
   ]
  },
  {
   "cell_type": "code",
   "execution_count": 6,
   "metadata": {},
   "outputs": [
    {
     "name": "stdout",
     "output_type": "stream",
     "text": [
      "mohammed arif\n",
      "Mohammed Arif\n",
      "MOHAMMED ARIF\n",
      "mohammed arif\n"
     ]
    }
   ],
   "source": [
    "# String methods\n",
    "\n",
    "first_name = 'mohammed'\n",
    "last_name = 'arif'\n",
    "\n",
    "full_name = f'{first_name} {last_name}'\n",
    "\n",
    "print(full_name)\n",
    "print(full_name.title())\n",
    "print(full_name.upper())\n",
    "print(full_name.lower())"
   ]
  },
  {
   "cell_type": "code",
   "execution_count": 9,
   "metadata": {},
   "outputs": [],
   "source": [
    "# Print with delimiters\n",
    "\n",
    "programming_languages = \"Fav Lang: PythonCC++JavaJavascriptHTMLRubyScalaJulia\""
   ]
  },
  {
   "cell_type": "code",
   "execution_count": 10,
   "metadata": {},
   "outputs": [
    {
     "data": {
      "text/plain": [
       "'Fav Lang: PythonCC++JavaJavascriptHTMLRubyScalaJulia'"
      ]
     },
     "execution_count": 10,
     "metadata": {},
     "output_type": "execute_result"
    }
   ],
   "source": [
    "programming_languages"
   ]
  },
  {
   "cell_type": "code",
   "execution_count": 34,
   "metadata": {},
   "outputs": [],
   "source": [
    "# Printing the programming languages in more organized format with delimiters\n",
    "\n",
    "updated_prog_lang = \"FavLang:\\nPython\\nC\\nC++\\nJava\\nJavascript\\nHTML\\nRuby\\nScala\\nJulia\"\n"
   ]
  },
  {
   "cell_type": "code",
   "execution_count": 35,
   "metadata": {},
   "outputs": [
    {
     "data": {
      "text/plain": [
       "'FavLang:\\nPython\\nC\\nC++\\nJava\\nJavascript\\nHTML\\nRuby\\nScala\\nJulia'"
      ]
     },
     "execution_count": 35,
     "metadata": {},
     "output_type": "execute_result"
    }
   ],
   "source": [
    "updated_prog_lang"
   ]
  },
  {
   "cell_type": "code",
   "execution_count": null,
   "metadata": {},
   "outputs": [],
   "source": []
  }
 ],
 "metadata": {
  "kernelspec": {
   "display_name": "Python 3",
   "language": "python",
   "name": "python3"
  },
  "language_info": {
   "codemirror_mode": {
    "name": "ipython",
    "version": 3
   },
   "file_extension": ".py",
   "mimetype": "text/x-python",
   "name": "python",
   "nbconvert_exporter": "python",
   "pygments_lexer": "ipython3",
   "version": "3.8.3"
  }
 },
 "nbformat": 4,
 "nbformat_minor": 4
}
